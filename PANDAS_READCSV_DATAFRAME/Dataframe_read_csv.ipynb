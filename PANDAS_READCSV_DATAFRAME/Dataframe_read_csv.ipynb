{
 "cells": [
  {
   "cell_type": "markdown",
   "metadata": {},
   "source": [
    "written by jorge orlando miranda ñahui  and braintels labs\n",
    "use of pandas to read csv files and work with DataFrame"
   ]
  },
  {
   "cell_type": "markdown",
   "metadata": {},
   "source": [
    "Creación de un Dataframe desde cero \n",
    "Dataframe es una representación matricial de datos , indexados por filas y columnas .."
   ]
  },
  {
   "cell_type": "code",
   "execution_count": 13,
   "metadata": {},
   "outputs": [
    {
     "name": "stdout",
     "output_type": "stream",
     "text": [
      "===============\n",
      "   x1   x2  y\n",
      "0  10  100  1\n",
      "1   1    0  0\n",
      "2  20  200  0\n",
      "3  30   20  1\n",
      "===============\n"
     ]
    }
   ],
   "source": [
    "#importar pandas\n",
    "import pandas as pd\n",
    "#crear objeto de la clase DataFrame\n",
    "dt=pd.DataFrame({\"x1\":[10,1,20,30],\"x2\":[100,0,200,20] , \"y\":[1,0,0,1]})\n",
    "#mostrar el DataFrame creado a partir del diccionario\n",
    "#{\"x1\":[10,1,20,30],\"x2\":[100,0,200,20] , \"y\":[1,0,0,1]}\n",
    "print(\"===============\")\n",
    "print(dt)\n",
    "print(\"===============\")"
   ]
  },
  {
   "cell_type": "code",
   "execution_count": 27,
   "metadata": {},
   "outputs": [
    {
     "name": "stdout",
     "output_type": "stream",
     "text": [
      "   x1   x2  y\n",
      "0  10  100  1\n",
      "3  30   20  1\n",
      "CANTIDAD DE MUESTRAS o FILAS ES IGUAL A:  2\n"
     ]
    }
   ],
   "source": [
    "#acceder a elementos especificos dentro de un DataFrame\n",
    "#Crear un DataFrame que cumpla la condición y==1\n",
    "dty=dt[dt[\"y\"]==1]\n",
    "print(dty)\n",
    "print(\"CANTIDAD DE MUESTRAS o FILAS ES IGUAL A: \",dty.shape[0])"
   ]
  },
  {
   "cell_type": "markdown",
   "metadata": {},
   "source": [
    "<En caso reales , el Dataframe a partir de una base de datos como sql , un archivo de excel , \n",
    "o algun archivo de texto csv."
   ]
  },
  {
   "cell_type": "code",
   "execution_count": 17,
   "metadata": {},
   "outputs": [
    {
     "name": "stdout",
     "output_type": "stream",
     "text": [
      "                                   Filename  Gender  Age\n",
      "0  Raw_0001_001_20050913115022_Portrait.png       1    1\n",
      "1  Raw_0002_002_20050913094354_Portrait.png       1    1\n",
      "2  Raw_0003_003_20050913094955_Portrait.png       0    0\n",
      "3  Raw_0005_004_20050913101316_Portrait.png       1    1\n",
      "4  Raw_0007_005_20050913093707_Portrait.png       0    1\n"
     ]
    }
   ],
   "source": [
    "#crear Dataframe mediante la lectura de un archivo csv previamente almacenado\n",
    "dtf=pd.read_csv(\"data_set.csv\")\n",
    "#mostrar las 5 primeras filas o muestras del dataframe\n",
    "print(dtf.head())"
   ]
  },
  {
   "cell_type": "markdown",
   "metadata": {},
   "source": [
    "Filename Gender Age representan los atributos  , cada valor que asume dichos atributos representan\n",
    "una muestra o ejemplo . El archivo csv que se tiene en este ejemplo , contiene información de :\n",
    "Filename: Nombre del archivo png (imagen)\n",
    "Gender : 0 indica masculino , 1 indica femenino "
   ]
  },
  {
   "cell_type": "markdown",
   "metadata": {},
   "source": [
    "Del DataFrame se desea contar cuantas personas masculinas y femeninas hay"
   ]
  },
  {
   "cell_type": "code",
   "execution_count": 29,
   "metadata": {},
   "outputs": [
    {
     "name": "stdout",
     "output_type": "stream",
     "text": [
      "MASCULINOS 84\n",
      "FEMENINAS 84\n"
     ]
    }
   ],
   "source": [
    "dt_m=dtf[dtf[\"Gender\"]==0]\n",
    "Nm=dt_m.shape[0]\n",
    "print(\"MASCULINOS\",Nm)\n",
    "dt_f=dtf[dtf[\"Gender\"]==0]\n",
    "Nf=dt_f.shape[0]\n",
    "print(\"FEMENINAS\",Nf)"
   ]
  }
 ],
 "metadata": {
  "kernelspec": {
   "display_name": "Python 3",
   "language": "python",
   "name": "python3"
  },
  "language_info": {
   "codemirror_mode": {
    "name": "ipython",
    "version": 3
   },
   "file_extension": ".py",
   "mimetype": "text/x-python",
   "name": "python",
   "nbconvert_exporter": "python",
   "pygments_lexer": "ipython3",
   "version": "3.7.2"
  }
 },
 "nbformat": 4,
 "nbformat_minor": 2
}
